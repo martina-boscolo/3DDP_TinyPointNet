{
  "cells": [
    {
      "cell_type": "markdown",
      "metadata": {
        "id": "-pfA1XNq2RnI"
      },
      "source": [
        "# 3D Data Processing\n",
        "\n",
        "---\n",
        "A.A. 2025 - Wanmeng Li, Daniel Fusaro\n",
        "---\n",
        "\n",
        "\n",
        "## Lab - PointNet: Point Cloud 3D Descriptors\n",
        "\n",
        "original paper -\n",
        "[PointNet: Deep Learning on Point Sets for 3D Classification and Segmentation](https://web.stanford.edu/~rqi/pointnet/)\n",
        "\n",
        "dataset link: https://drive.google.com/drive/folders/1IweJGcOeOZN3wY79i2jFt3JE1bd7G51Z?usp=share_link\n",
        "\n",
        "SHOT descriptions: [lecture](https://stem.elearning.unipd.it/pluginfile.php/1107614/mod_resource/content/1/Slide_3DP_13_3D%20Local%20Descriptors.pdf)\n",
        "\n",
        "To add a link to the dataset in your Google Drive main folder, you need to:\n",
        "\n",
        " - Click on the link\n",
        " - Right click on \"dataset\"\n",
        " - Click Add shortcut to Drive\n",
        "\n",
        "When you will mount your drive folder in Colab you will find this folder without the need of re-uploading it."
      ]
    },
    {
      "cell_type": "code",
      "execution_count": null,
      "metadata": {
        "id": "hc7eaUqkcmAz"
      },
      "outputs": [],
      "source": [
        "import numpy as np\n",
        "import random\n",
        "import math\n",
        "import time\n",
        "import copy\n",
        "import os\n",
        "import glob\n",
        "\n",
        "import matplotlib.pyplot as plt\n",
        "from scipy.spatial.transform import Rotation as R\n",
        "\n",
        "# pyTorch imports\n",
        "import torch\n",
        "import torch.nn as nn\n",
        "import torch.nn.functional as F\n",
        "from torch.utils.data import Dataset, DataLoader\n",
        "\n",
        "# a nice training progress bar\n",
        "from tqdm import tqdm, trange"
      ]
    },
    {
      "cell_type": "code",
      "execution_count": null,
      "metadata": {
        "id": "qSyKEXWMmI2Y",
        "colab": {
          "base_uri": "https://localhost:8080/"
        },
        "outputId": "dbc8533e-9340-4461-c99c-b779e6aeeacd"
      },
      "outputs": [
        {
          "output_type": "stream",
          "name": "stdout",
          "text": [
            "Requirement already satisfied: open3d in /usr/local/lib/python3.11/dist-packages (0.19.0)\n",
            "Requirement already satisfied: numpy>=1.18.0 in /usr/local/lib/python3.11/dist-packages (from open3d) (2.0.2)\n",
            "Requirement already satisfied: dash>=2.6.0 in /usr/local/lib/python3.11/dist-packages (from open3d) (3.1.0)\n",
            "Requirement already satisfied: werkzeug>=3.0.0 in /usr/local/lib/python3.11/dist-packages (from open3d) (3.1.3)\n",
            "Requirement already satisfied: flask>=3.0.0 in /usr/local/lib/python3.11/dist-packages (from open3d) (3.1.1)\n",
            "Requirement already satisfied: nbformat>=5.7.0 in /usr/local/lib/python3.11/dist-packages (from open3d) (5.10.4)\n",
            "Requirement already satisfied: configargparse in /usr/local/lib/python3.11/dist-packages (from open3d) (1.7.1)\n",
            "Requirement already satisfied: ipywidgets>=8.0.4 in /usr/local/lib/python3.11/dist-packages (from open3d) (8.1.7)\n",
            "Requirement already satisfied: addict in /usr/local/lib/python3.11/dist-packages (from open3d) (2.4.0)\n",
            "Requirement already satisfied: pillow>=9.3.0 in /usr/local/lib/python3.11/dist-packages (from open3d) (11.2.1)\n",
            "Requirement already satisfied: matplotlib>=3 in /usr/local/lib/python3.11/dist-packages (from open3d) (3.10.0)\n",
            "Requirement already satisfied: pandas>=1.0 in /usr/local/lib/python3.11/dist-packages (from open3d) (2.2.2)\n",
            "Requirement already satisfied: pyyaml>=5.4.1 in /usr/local/lib/python3.11/dist-packages (from open3d) (6.0.2)\n",
            "Requirement already satisfied: scikit-learn>=0.21 in /usr/local/lib/python3.11/dist-packages (from open3d) (1.6.1)\n",
            "Requirement already satisfied: tqdm in /usr/local/lib/python3.11/dist-packages (from open3d) (4.67.1)\n",
            "Requirement already satisfied: pyquaternion in /usr/local/lib/python3.11/dist-packages (from open3d) (0.9.9)\n",
            "Requirement already satisfied: plotly>=5.0.0 in /usr/local/lib/python3.11/dist-packages (from dash>=2.6.0->open3d) (5.24.1)\n",
            "Requirement already satisfied: importlib-metadata in /usr/local/lib/python3.11/dist-packages (from dash>=2.6.0->open3d) (8.7.0)\n",
            "Requirement already satisfied: typing-extensions>=4.1.1 in /usr/local/lib/python3.11/dist-packages (from dash>=2.6.0->open3d) (4.14.0)\n",
            "Requirement already satisfied: requests in /usr/local/lib/python3.11/dist-packages (from dash>=2.6.0->open3d) (2.32.3)\n",
            "Requirement already satisfied: retrying in /usr/local/lib/python3.11/dist-packages (from dash>=2.6.0->open3d) (1.4.0)\n",
            "Requirement already satisfied: nest-asyncio in /usr/local/lib/python3.11/dist-packages (from dash>=2.6.0->open3d) (1.6.0)\n",
            "Requirement already satisfied: setuptools in /usr/local/lib/python3.11/dist-packages (from dash>=2.6.0->open3d) (75.2.0)\n",
            "Requirement already satisfied: blinker>=1.9.0 in /usr/local/lib/python3.11/dist-packages (from flask>=3.0.0->open3d) (1.9.0)\n",
            "Requirement already satisfied: click>=8.1.3 in /usr/local/lib/python3.11/dist-packages (from flask>=3.0.0->open3d) (8.2.1)\n",
            "Requirement already satisfied: itsdangerous>=2.2.0 in /usr/local/lib/python3.11/dist-packages (from flask>=3.0.0->open3d) (2.2.0)\n",
            "Requirement already satisfied: jinja2>=3.1.2 in /usr/local/lib/python3.11/dist-packages (from flask>=3.0.0->open3d) (3.1.6)\n",
            "Requirement already satisfied: markupsafe>=2.1.1 in /usr/local/lib/python3.11/dist-packages (from flask>=3.0.0->open3d) (3.0.2)\n",
            "Requirement already satisfied: comm>=0.1.3 in /usr/local/lib/python3.11/dist-packages (from ipywidgets>=8.0.4->open3d) (0.2.2)\n",
            "Requirement already satisfied: ipython>=6.1.0 in /usr/local/lib/python3.11/dist-packages (from ipywidgets>=8.0.4->open3d) (7.34.0)\n",
            "Requirement already satisfied: traitlets>=4.3.1 in /usr/local/lib/python3.11/dist-packages (from ipywidgets>=8.0.4->open3d) (5.7.1)\n",
            "Requirement already satisfied: widgetsnbextension~=4.0.14 in /usr/local/lib/python3.11/dist-packages (from ipywidgets>=8.0.4->open3d) (4.0.14)\n",
            "Requirement already satisfied: jupyterlab_widgets~=3.0.15 in /usr/local/lib/python3.11/dist-packages (from ipywidgets>=8.0.4->open3d) (3.0.15)\n",
            "Requirement already satisfied: contourpy>=1.0.1 in /usr/local/lib/python3.11/dist-packages (from matplotlib>=3->open3d) (1.3.2)\n",
            "Requirement already satisfied: cycler>=0.10 in /usr/local/lib/python3.11/dist-packages (from matplotlib>=3->open3d) (0.12.1)\n",
            "Requirement already satisfied: fonttools>=4.22.0 in /usr/local/lib/python3.11/dist-packages (from matplotlib>=3->open3d) (4.58.4)\n",
            "Requirement already satisfied: kiwisolver>=1.3.1 in /usr/local/lib/python3.11/dist-packages (from matplotlib>=3->open3d) (1.4.8)\n",
            "Requirement already satisfied: packaging>=20.0 in /usr/local/lib/python3.11/dist-packages (from matplotlib>=3->open3d) (24.2)\n",
            "Requirement already satisfied: pyparsing>=2.3.1 in /usr/local/lib/python3.11/dist-packages (from matplotlib>=3->open3d) (3.2.3)\n",
            "Requirement already satisfied: python-dateutil>=2.7 in /usr/local/lib/python3.11/dist-packages (from matplotlib>=3->open3d) (2.9.0.post0)\n",
            "Requirement already satisfied: fastjsonschema>=2.15 in /usr/local/lib/python3.11/dist-packages (from nbformat>=5.7.0->open3d) (2.21.1)\n",
            "Requirement already satisfied: jsonschema>=2.6 in /usr/local/lib/python3.11/dist-packages (from nbformat>=5.7.0->open3d) (4.24.0)\n",
            "Requirement already satisfied: jupyter-core!=5.0.*,>=4.12 in /usr/local/lib/python3.11/dist-packages (from nbformat>=5.7.0->open3d) (5.8.1)\n",
            "Requirement already satisfied: pytz>=2020.1 in /usr/local/lib/python3.11/dist-packages (from pandas>=1.0->open3d) (2025.2)\n",
            "Requirement already satisfied: tzdata>=2022.7 in /usr/local/lib/python3.11/dist-packages (from pandas>=1.0->open3d) (2025.2)\n",
            "Requirement already satisfied: scipy>=1.6.0 in /usr/local/lib/python3.11/dist-packages (from scikit-learn>=0.21->open3d) (1.15.3)\n",
            "Requirement already satisfied: joblib>=1.2.0 in /usr/local/lib/python3.11/dist-packages (from scikit-learn>=0.21->open3d) (1.5.1)\n",
            "Requirement already satisfied: threadpoolctl>=3.1.0 in /usr/local/lib/python3.11/dist-packages (from scikit-learn>=0.21->open3d) (3.6.0)\n",
            "Requirement already satisfied: jedi>=0.16 in /usr/local/lib/python3.11/dist-packages (from ipython>=6.1.0->ipywidgets>=8.0.4->open3d) (0.19.2)\n",
            "Requirement already satisfied: decorator in /usr/local/lib/python3.11/dist-packages (from ipython>=6.1.0->ipywidgets>=8.0.4->open3d) (4.4.2)\n",
            "Requirement already satisfied: pickleshare in /usr/local/lib/python3.11/dist-packages (from ipython>=6.1.0->ipywidgets>=8.0.4->open3d) (0.7.5)\n",
            "Requirement already satisfied: prompt-toolkit!=3.0.0,!=3.0.1,<3.1.0,>=2.0.0 in /usr/local/lib/python3.11/dist-packages (from ipython>=6.1.0->ipywidgets>=8.0.4->open3d) (3.0.51)\n",
            "Requirement already satisfied: pygments in /usr/local/lib/python3.11/dist-packages (from ipython>=6.1.0->ipywidgets>=8.0.4->open3d) (2.19.2)\n",
            "Requirement already satisfied: backcall in /usr/local/lib/python3.11/dist-packages (from ipython>=6.1.0->ipywidgets>=8.0.4->open3d) (0.2.0)\n",
            "Requirement already satisfied: matplotlib-inline in /usr/local/lib/python3.11/dist-packages (from ipython>=6.1.0->ipywidgets>=8.0.4->open3d) (0.1.7)\n",
            "Requirement already satisfied: pexpect>4.3 in /usr/local/lib/python3.11/dist-packages (from ipython>=6.1.0->ipywidgets>=8.0.4->open3d) (4.9.0)\n",
            "Requirement already satisfied: attrs>=22.2.0 in /usr/local/lib/python3.11/dist-packages (from jsonschema>=2.6->nbformat>=5.7.0->open3d) (25.3.0)\n",
            "Requirement already satisfied: jsonschema-specifications>=2023.03.6 in /usr/local/lib/python3.11/dist-packages (from jsonschema>=2.6->nbformat>=5.7.0->open3d) (2025.4.1)\n",
            "Requirement already satisfied: referencing>=0.28.4 in /usr/local/lib/python3.11/dist-packages (from jsonschema>=2.6->nbformat>=5.7.0->open3d) (0.36.2)\n",
            "Requirement already satisfied: rpds-py>=0.7.1 in /usr/local/lib/python3.11/dist-packages (from jsonschema>=2.6->nbformat>=5.7.0->open3d) (0.25.1)\n",
            "Requirement already satisfied: platformdirs>=2.5 in /usr/local/lib/python3.11/dist-packages (from jupyter-core!=5.0.*,>=4.12->nbformat>=5.7.0->open3d) (4.3.8)\n",
            "Requirement already satisfied: tenacity>=6.2.0 in /usr/local/lib/python3.11/dist-packages (from plotly>=5.0.0->dash>=2.6.0->open3d) (8.5.0)\n",
            "Requirement already satisfied: six>=1.5 in /usr/local/lib/python3.11/dist-packages (from python-dateutil>=2.7->matplotlib>=3->open3d) (1.17.0)\n",
            "Requirement already satisfied: zipp>=3.20 in /usr/local/lib/python3.11/dist-packages (from importlib-metadata->dash>=2.6.0->open3d) (3.23.0)\n",
            "Requirement already satisfied: charset-normalizer<4,>=2 in /usr/local/lib/python3.11/dist-packages (from requests->dash>=2.6.0->open3d) (3.4.2)\n",
            "Requirement already satisfied: idna<4,>=2.5 in /usr/local/lib/python3.11/dist-packages (from requests->dash>=2.6.0->open3d) (3.10)\n",
            "Requirement already satisfied: urllib3<3,>=1.21.1 in /usr/local/lib/python3.11/dist-packages (from requests->dash>=2.6.0->open3d) (2.4.0)\n",
            "Requirement already satisfied: certifi>=2017.4.17 in /usr/local/lib/python3.11/dist-packages (from requests->dash>=2.6.0->open3d) (2025.6.15)\n",
            "Requirement already satisfied: parso<0.9.0,>=0.8.4 in /usr/local/lib/python3.11/dist-packages (from jedi>=0.16->ipython>=6.1.0->ipywidgets>=8.0.4->open3d) (0.8.4)\n",
            "Requirement already satisfied: ptyprocess>=0.5 in /usr/local/lib/python3.11/dist-packages (from pexpect>4.3->ipython>=6.1.0->ipywidgets>=8.0.4->open3d) (0.7.0)\n",
            "Requirement already satisfied: wcwidth in /usr/local/lib/python3.11/dist-packages (from prompt-toolkit!=3.0.0,!=3.0.1,<3.1.0,>=2.0.0->ipython>=6.1.0->ipywidgets>=8.0.4->open3d) (0.2.13)\n"
          ]
        }
      ],
      "source": [
        "running_on_colab = True\n",
        "\n",
        "if running_on_colab:\n",
        "    # useful for visualization\n",
        "    ## note: it's not necessary to restart the notebook environment after installation\n",
        "    !pip install open3d\n",
        "\n",
        "    import plotly.graph_objects as go\n",
        "\n",
        "# visualization\n",
        "import open3d as o3d\n"
      ]
    },
    {
      "cell_type": "markdown",
      "metadata": {
        "id": "DuR9palyGqil"
      },
      "source": [
        "# Connect and mount your Google Drive"
      ]
    },
    {
      "cell_type": "code",
      "execution_count": null,
      "metadata": {
        "id": "Wjgl1d34-CWw",
        "colab": {
          "base_uri": "https://localhost:8080/"
        },
        "outputId": "28b18c5f-1944-408e-8c48-e0b03d379486"
      },
      "outputs": [
        {
          "output_type": "stream",
          "name": "stdout",
          "text": [
            "Drive already mounted at /content/drive; to attempt to forcibly remount, call drive.mount(\"/content/drive\", force_remount=True).\n"
          ]
        }
      ],
      "source": [
        "if running_on_colab:\n",
        "    from google.colab import drive\n",
        "    drive_path = '/content/drive'\n",
        "    drive.mount(drive_path)"
      ]
    },
    {
      "cell_type": "markdown",
      "metadata": {
        "id": "hK1CJSoJGvi7"
      },
      "source": [
        "# General Parameters"
      ]
    },
    {
      "cell_type": "code",
      "execution_count": null,
      "metadata": {
        "id": "1LWQSdhp3CiT"
      },
      "outputs": [],
      "source": [
        "# originaly the path was: os.path.join(drive_path, \"MyDrive\", \"3D_dp_dataset\", \"3dshapes\", \"train\")\n",
        "if running_on_colab:\n",
        "    dataset_path_train = os.path.join(drive_path, \"MyDrive\", \"3dshapes\", \"train\")\n",
        "    dataset_path_valid = os.path.join(drive_path, \"MyDrive\", \"3dshapes\", \"valid\")\n",
        "    dataset_path_test = os.path.join(drive_path,  \"MyDrive\", \"3dshapes\", \"test\")\n",
        "else:\n",
        "    dataset_path_train = os.path.join(\"datasets\", \"train\")\n",
        "    dataset_path_valid = os.path.join(\"datasets\", \"valid\")\n",
        "    dataset_path_test = os.path.join(\"datasets\", \"test\")"
      ]
    },
    {
      "cell_type": "markdown",
      "metadata": {
        "id": "VWcO-JoNzH17"
      },
      "source": [
        "# Visualization Example\n",
        "In order to visualize colored point clouds we make use of the Python package *Open3D*.\n",
        "\n",
        "Unfortunately, the original doesn't run on Colab.\n",
        "So, we replace the drawing function with a custom one (*draw_geometries*) that allows for rendering here on Colab.\n",
        "\n"
      ]
    },
    {
      "cell_type": "code",
      "execution_count": null,
      "metadata": {
        "id": "9ceZKVwpfdG0"
      },
      "outputs": [],
      "source": [
        "if running_on_colab:\n",
        "    def draw_geometries(geometries):\n",
        "        graph_objects = []\n",
        "\n",
        "        for geometry in geometries:\n",
        "            geometry_type = geometry.get_geometry_type()\n",
        "\n",
        "            if geometry_type == o3d.geometry.Geometry.Type.PointCloud:\n",
        "                points = np.asarray(geometry.points)\n",
        "                colors = None\n",
        "                if geometry.has_colors():\n",
        "                    colors = np.asarray(geometry.colors)\n",
        "                elif geometry.has_normals():\n",
        "                    colors = (0.5, 0.5, 0.5) + np.asarray(geometry.normals) * 0.5\n",
        "                else:\n",
        "                    geometry.paint_uniform_color((1.0, 0.0, 0.0))\n",
        "                    colors = np.asarray(geometry.colors)\n",
        "\n",
        "                scatter_3d = go.Scatter3d(x=points[:,0], y=points[:,1], z=points[:,2], mode='markers', marker=dict(size=1, color=colors))\n",
        "                graph_objects.append(scatter_3d)\n",
        "\n",
        "            if geometry_type == o3d.geometry.Geometry.Type.TriangleMesh:\n",
        "                triangles = np.asarray(geometry.triangles)\n",
        "                vertices = np.asarray(geometry.vertices)\n",
        "                colors = None\n",
        "                if geometry.has_triangle_normals():\n",
        "                    colors = (0.5, 0.5, 0.5) + np.asarray(geometry.triangle_normals) * 0.5\n",
        "                    colors = tuple(map(tuple, colors))\n",
        "                else:\n",
        "                    colors = (1.0, 0.0, 0.0)\n",
        "\n",
        "                mesh_3d = go.Mesh3d(x=vertices[:,0], y=vertices[:,1], z=vertices[:,2], i=triangles[:,0], j=triangles[:,1], k=triangles[:,2], facecolor=colors, opacity=0.50)\n",
        "                graph_objects.append(mesh_3d)\n",
        "\n",
        "        fig = go.Figure(\n",
        "            data=graph_objects,\n",
        "            layout=dict(\n",
        "                scene=dict(\n",
        "                    xaxis=dict(visible=False),\n",
        "                    yaxis=dict(visible=False),\n",
        "                    zaxis=dict(visible=False),\n",
        "                    aspectmode='data'\n",
        "                )\n",
        "            )\n",
        "        )\n",
        "        fig.show()"
      ]
    },
    {
      "cell_type": "code",
      "execution_count": null,
      "metadata": {
        "id": "ywtBnEqw10u3"
      },
      "outputs": [],
      "source": [
        "if running_on_colab:\n",
        "    o3d.visualization.draw_geometries = draw_geometries\n",
        "\n",
        "anchor_color   = [0, 0, 1.0] # blue\n",
        "positive_color = [0, 1.0, 0] # green\n",
        "negative_color = [1.0, 0, 0] # red\n",
        "p_colors = [anchor_color, positive_color, negative_color]\n",
        "\n",
        "def visualize( pointcloud:np.array =None,\n",
        "               anchor    :np.array =None,\n",
        "               positive  :np.array =None,\n",
        "               negative  :np.array =None,\n",
        "               radius    :np.array =None,\n",
        "               rot_mat   :np.array =None):\n",
        "    \"\"\"\n",
        "    INPUT\n",
        "      pointcloud : numpy array of 3D points\n",
        "      anchor     : anchor point\n",
        "      positive   :\n",
        "      negative   :\n",
        "    \"\"\"\n",
        "    geoms = []\n",
        "    if pointcloud is not None:\n",
        "        pcd = o3d.geometry.PointCloud()\n",
        "        pcd.points = o3d.utility.Vector3dVector(pointcloud)\n",
        "        pcd.paint_uniform_color([0.6, 0.6, 0.6])\n",
        "        if rot_mat is not None:\n",
        "            pcd.rotate(rot_mat, center=(0, 0, 0))\n",
        "        geoms.append(pcd)\n",
        "    for point, color in zip([anchor, positive, negative], p_colors):\n",
        "        if point is not None:\n",
        "            assert radius is not None\n",
        "            sphere = o3d.geometry.TriangleMesh.create_sphere(radius=radius, resolution=20)\n",
        "            sphere.translate(point)\n",
        "            sphere.paint_uniform_color(color)\n",
        "            geoms.append(sphere)\n",
        "    # visualize the colored point cloud\n",
        "    #o3d.visualization.draw_geometries(geoms)"
      ]
    },
    {
      "cell_type": "markdown",
      "metadata": {
        "id": "dLp113kezNBG"
      },
      "source": [
        "# PointCloud Dataset\n",
        "\n",
        "`torch.utils.data.Dataset` is an abstract class representing a dataset. Your custom dataset should inherit `Dataset` and override the following methods:\n",
        "\n",
        "* `__init__` to initialize your dataset. For example, if your dataset fits in memory, you can load the entire dataset in a list, or you can just store the list of dataset files.\n",
        "* `__len__` so that len(dataset) returns the size of the dataset.\n",
        "* `__getitem__` to support indexing such that `dataset[i]` can be used to get  the i-th sample\n",
        "\n",
        "Therefore, the structure of the class is:\n",
        "\n",
        "```\n",
        "class CustomDataset(Dataset):\n",
        "\n",
        "    def __init__(self, init_parameters):\n",
        "        self.param1 = param1\n",
        "        [...]\n",
        "\n",
        "    def __len__(self):\n",
        "        [...]\n",
        "\n",
        "    def __getitem__(self, idx):\n",
        "        [...]\n",
        "\n",
        "        return sample[idx]\n",
        "```\n"
      ]
    },
    {
      "cell_type": "markdown",
      "source": [
        "#Parameter Tuning\n",
        "This cell was added to help with tuning the model parameters.\n",
        "\n"
      ],
      "metadata": {
        "id": "QZwW-VHtpKf7"
      }
    },
    {
      "cell_type": "code",
      "source": [
        "LEARNING_RATE = 0.0005\n",
        "RADIUS = 0.05\n",
        "N_POINTS = 750\n",
        "EPOCHS = 20"
      ],
      "metadata": {
        "id": "6epcOlxpTrLI"
      },
      "execution_count": null,
      "outputs": []
    },
    {
      "cell_type": "code",
      "execution_count": null,
      "metadata": {
        "id": "C2NuVvQCweUS"
      },
      "outputs": [],
      "source": [
        "class PointCloudData(Dataset):\n",
        "    def __init__(self,\n",
        "                dataset_path: str,\n",
        "                samples_per_epoch: int,\n",
        "                points_to_sample:int = 200000,\n",
        "                radius:float = RADIUS,\n",
        "                min_dist=1.5e-2,\n",
        "                N = N_POINTS,\n",
        "                noise_mean=0,\n",
        "                noise_variance = 6e-5,\n",
        "                is_test_set=False):\n",
        "        \"\"\"\n",
        "          INPUT\n",
        "              dataset_path: path to the dataset folder\n",
        "              transform   : transform function to apply to point cloud\n",
        "        \"\"\"\n",
        "\n",
        "        self.radius = radius\n",
        "        self.min_dist = min_dist\n",
        "        self.N = N\n",
        "        self.samples_per_epoch = samples_per_epoch\n",
        "        self.points_to_sample = points_to_sample\n",
        "        self.noise_mean = noise_mean\n",
        "        self.noise_variance = noise_variance\n",
        "        self.is_test_set = is_test_set\n",
        "\n",
        "        # _n means noised version\n",
        "        self.mesh = []\n",
        "        self.pcds, self.pcds_n = [], []\n",
        "        self.KDtrees, self.KDtrees_n = [], []\n",
        "\n",
        "        ## if it's the test set, pre-define a random rotation matrix\n",
        "        if self.is_test_set:\n",
        "            self.common_rot_mat = self.get_xyz_random_rotation()\n",
        "\n",
        "        for file in glob.glob(dataset_path + \"/*.ply\"):\n",
        "            print(\"parsing file\", file)\n",
        "            mesh = o3d.io.read_triangle_mesh(file)\n",
        "            pcd = mesh.sample_points_uniformly(self.points_to_sample)\n",
        "            if self.is_test_set:\n",
        "                pcd.rotate(self.common_rot_mat.as_matrix(), center=(0, 0, 0))\n",
        "            pcd_tree = o3d.geometry.KDTreeFlann(pcd)\n",
        "\n",
        "            pcd_n = self.apply_noise(mesh.sample_points_uniformly(self.points_to_sample), self.noise_mean, self.noise_variance)\n",
        "            if self.is_test_set:\n",
        "                pcd_n.rotate(self.common_rot_mat.as_matrix(), center=(0, 0, 0))\n",
        "            pcd_n_tree = o3d.geometry.KDTreeFlann(pcd_n)\n",
        "\n",
        "            self.mesh.append(mesh)\n",
        "\n",
        "            self.pcds.append(np.asarray(pcd.points))\n",
        "            self.pcds_n.append(np.asarray(pcd_n.points))\n",
        "\n",
        "            self.KDtrees.append(pcd_tree)\n",
        "            self.KDtrees_n.append(pcd_n_tree)\n",
        "\n",
        "    # function to apply noise\n",
        "    def apply_noise(self, pcd, mu, sigma):\n",
        "        noisy_pcd = copy.deepcopy(pcd)\n",
        "        points = np.asarray(noisy_pcd.points)\n",
        "        points += np.random.normal(mu, sigma, size=points.shape)\n",
        "        noisy_pcd.points = o3d.utility.Vector3dVector(points)\n",
        "        return noisy_pcd\n",
        "\n",
        "    def __len__(self):\n",
        "        return self.samples_per_epoch\n",
        "\n",
        "    def get_xyz_random_rotation(self):\n",
        "        random_rotation_on_xyz_axis = np.random.rand(3) * 2 * np.pi\n",
        "        return R.from_euler('xyz', random_rotation_on_xyz_axis, degrees=False)\n",
        "\n",
        "    def get_point_cloud_center(self, pc_points):\n",
        "        return pc_points.mean(axis=0)\n",
        "\n",
        "    def apply_rotation(self, point, rot_mat, pcd_center):\n",
        "        return np.dot(point.reshape(1, 3), rot_mat.as_matrix().T)[0, :]\n",
        "\n",
        "    def apply_rotation_pc(self, points, rot_mat, pcd_center):\n",
        "        return np.dot(points, rot_mat.as_matrix().T)\n",
        "\n",
        "    def bufferize_pointcloud(self, points, N):\n",
        "        pc = np.zeros((self.N, 3), dtype=np.float32)\n",
        "        pc[:min(self.N, points.shape[0]), :] = points[:min(self.N, points.shape[0]), :]\n",
        "        return pc\n",
        "\n",
        "    def sample_anchor_point(self, pcd_points, pcd_tree):\n",
        "        ############# START ###########\n",
        "\n",
        "        anchor_idx = np.random.randint(0, pcd_points.shape[0]) #random point\n",
        "        anchor_pt = pcd_points[anchor_idx]\n",
        "        _, anchor_neighborhood_idxs, _ = pcd_tree.search_radius_vector_3d(anchor_pt, self.radius) # neighborhood points within radius\n",
        "\n",
        "        # fall-back: ensure we have enough points in the neighborhood\n",
        "        if len(anchor_neighborhood_idxs) < 10:\n",
        "            return self.sample_anchor_point(pcd_points, pcd_tree)\n",
        "\n",
        "        ############# END #############\n",
        "        return anchor_pt, anchor_neighborhood_idxs\n",
        "\n",
        "    def sample_positive_point(self, pcd_n_points, pcd_n_tree, anchor_pt):\n",
        "        _, noisy_anchor_nn_idx, _ = pcd_n_tree.search_knn_vector_3d(anchor_pt, 1)\n",
        "\n",
        "        ############# START ###########\n",
        "\n",
        "        pos_pt = pcd_n_points[noisy_anchor_nn_idx[0]] # closest point\n",
        "\n",
        "        _, noisy_positive_neighborhood_idxs, _ = pcd_n_tree.search_radius_vector_3d(pos_pt, self.radius) # find neighborhood\n",
        "\n",
        "        # fall-back: ensure we have enough points in the neighborhood\n",
        "        min_points = 10\n",
        "        if len(noisy_positive_neighborhood_idxs) < min_points:\n",
        "            # try expanding search radius\n",
        "            _, noisy_positive_neighborhood_idxs, _ = pcd_n_tree.search_radius_vector_3d(pos_pt, self.radius * 1.5)\n",
        "\n",
        "        ############# END #############\n",
        "\n",
        "        return pos_pt, noisy_positive_neighborhood_idxs\n",
        "\n",
        "    def sample_negative_point(self, pcd_n_points, pcd_n_tree, anchor_pt):\n",
        "        ############# START ###########\n",
        "        max_attempts = 100\n",
        "        min_points = 10\n",
        "\n",
        "        for attempt in range(max_attempts):\n",
        "\n",
        "            neg_idx = np.random.randint(0, pcd_n_points.shape[0]) # random point\n",
        "            neg_pt = pcd_n_points[neg_idx]\n",
        "\n",
        "            # check if the distance is greater than min_dist\n",
        "            dist = np.linalg.norm(anchor_pt - neg_pt)\n",
        "            if dist >= self.min_dist:\n",
        "                _, noisy_negative_neighborhood_idxs, _ = pcd_n_tree.search_radius_vector_3d(neg_pt, self.radius) # find neighborhood\n",
        "\n",
        "                # ensure we have enough points in the neighborhood\n",
        "                if len(noisy_negative_neighborhood_idxs) >= min_points:\n",
        "                    return neg_pt, noisy_negative_neighborhood_idxs\n",
        "                else:\n",
        "                    # try expanding radius\n",
        "                    _, noisy_negative_neighborhood_idxs, _ = pcd_n_tree.search_radius_vector_3d(neg_pt, self.radius * 1.5)\n",
        "                    if len(noisy_negative_neighborhood_idxs) >= min_points:\n",
        "                        return neg_pt, noisy_negative_neighborhood_idxs\n",
        "\n",
        "        return None, None\n",
        "\n",
        "        ############# END #############\n",
        "\n",
        "    def get_sampled_pointcloud(self, mesh_idx, N):\n",
        "        idxs = np.arange(0, self.pcds[mesh_idx].shape[0], 1)\n",
        "        np.random.shuffle(idxs)\n",
        "        pcd = o3d.geometry.PointCloud()\n",
        "        pcd.points = o3d.utility.Vector3dVector(self.pcds[mesh_idx][idxs[:N]])\n",
        "        return pcd\n",
        "\n",
        "    def generate_test_set(self, mesh_idx, N=500):\n",
        "\n",
        "        self.test_points = self.pcds[mesh_idx]\n",
        "\n",
        "        ## sample test points randomly\n",
        "        idxs = np.arange(0, self.test_points.shape[0], 1)\n",
        "        np.random.shuffle(idxs)\n",
        "        self.test_points_sampled = self.test_points[idxs[:N]]\n",
        "\n",
        "        # ## as a bonus study: you can sample keypoints from the point cloud\n",
        "        # ## using open3d and analyze the results. Keypoints are inherently easier.\n",
        "        # pcd = o3d.geometry.PointCloud()\n",
        "        # pcd.points = o3d.utility.Vector3dVector(self.pcds[mesh_idx])\n",
        "        # keypoints = o3d.geometry.keypoint.compute_iss_keypoints(pcd,\n",
        "        #                                                 salient_radius=0.005,\n",
        "        #                                                 non_max_radius=0.005,\n",
        "        #                                                 gamma_21=0.4,\n",
        "        #                                                 gamma_32=0.5)\n",
        "        # self.test_points_sampled = np.random.permutation(np.asarray(keypoints.points))\n",
        "\n",
        "        self.test_tree = self.KDtrees[mesh_idx]\n",
        "\n",
        "    def generate_noisy_test_set(self, mesh_idx):\n",
        "        self.test_points_n = self.pcds_n[mesh_idx]\n",
        "        self.test_tree_n = self.KDtrees_n[mesh_idx]\n",
        "\n",
        "        test_points_sampled_n = []\n",
        "        for i in tqdm(range(self.test_points_sampled.shape[0])):\n",
        "            _, gt_nn_idx, _ = self.test_tree_n.search_knn_vector_3d(self.test_points_sampled[i], 1)\n",
        "            gt_nearest_point = self.test_points_n[gt_nn_idx].squeeze()\n",
        "            test_points_sampled_n.append(gt_nearest_point)\n",
        "\n",
        "        self.test_points_sampled_n = np.asarray(test_points_sampled_n)\n",
        "\n",
        "    def compute_descriptors(self, tinypointnet, noisy=False):\n",
        "        tinypointnet.eval()\n",
        "\n",
        "        if noisy:\n",
        "            queries = self.test_points_sampled_n\n",
        "            tree    = self.test_tree_n\n",
        "            points  = self.test_points_n\n",
        "        else:\n",
        "            queries = self.test_points_sampled\n",
        "            tree    = self.test_tree\n",
        "            points  = self.test_points\n",
        "        tot_queries = queries.shape[0]\n",
        "\n",
        "        descriptors = np.zeros((tot_queries, 256), dtype=np.float32)\n",
        "        for i in tqdm(range(tot_queries)):\n",
        "            pt = queries[i]\n",
        "\n",
        "            ## find neighborhood of points\n",
        "            _, idx, _ = tree.search_radius_vector_3d(pt, self.radius)\n",
        "            point_set = points[idx]\n",
        "\n",
        "            ## normalize the points\n",
        "            point_set = (point_set - pt)\n",
        "\n",
        "            pc = np.zeros((self.N, 3), dtype=np.float32)\n",
        "            pc[:min(self.N, point_set.shape[0]), :] = point_set[:min(self.N, point_set.shape[0]), :]\n",
        "\n",
        "            # transform\n",
        "            anchor  = torch.from_numpy(pc).unsqueeze(0).float().transpose(1,2).to(device)\n",
        "            descriptors[i, :] = tinypointnet(anchor)[0, :, 0].cpu().detach().numpy()\n",
        "        return descriptors\n",
        "\n",
        "    def __getitem__(self, _):\n",
        "        mesh_idx = np.random.randint(0, len(self.mesh))\n",
        "\n",
        "        pcd_points = self.pcds[mesh_idx]        ## anchor will be drawn from this\n",
        "        pcd_n_points = self.pcds_n[mesh_idx]    ## positive and negative will be drawn from this\n",
        "\n",
        "        # ANCHOR: select a random anchor point\n",
        "        anchor_pt, anchor_neighborhood_idxs = self.sample_anchor_point(pcd_points, self.KDtrees[mesh_idx])\n",
        "\n",
        "        # POSITIVE: find corresponding point in the noisy point cloud\n",
        "        pos_pt, noisy_positive_neighborhood_idxs = self.sample_positive_point(pcd_n_points, self.KDtrees_n[mesh_idx], anchor_pt)\n",
        "\n",
        "        # NEGATIVE: find far point (at least at distance min_dist)\n",
        "        neg_pt, noisy_negative_neighborhood_idxs = self.sample_negative_point(pcd_n_points, self.KDtrees_n[mesh_idx], anchor_pt)\n",
        "        if neg_pt is None: ## it should never fail, but if it fails: restart experiment\n",
        "            quit(\"FAIL: restart experiment\")\n",
        "\n",
        "\n",
        "        # get points\n",
        "        point_set_anchor   = pcd_points[anchor_neighborhood_idxs]\n",
        "        point_set_positive = pcd_n_points[noisy_positive_neighborhood_idxs]\n",
        "        point_set_negative = pcd_n_points[noisy_negative_neighborhood_idxs]\n",
        "\n",
        "        if not self.is_test_set:\n",
        "            # generate a random rotation\n",
        "            rot_mat = self.get_xyz_random_rotation()\n",
        "\n",
        "            # apply the random rotation to point cloud and points\n",
        "            pcd_points_center = self.get_point_cloud_center(pcd_points)\n",
        "            pcd_n_points_center = self.get_point_cloud_center(pcd_n_points)\n",
        "            anchor_pt = self.apply_rotation(anchor_pt, rot_mat, pcd_points_center)\n",
        "            pos_pt    = self.apply_rotation(pos_pt, rot_mat, pcd_n_points_center)\n",
        "            neg_pt    = self.apply_rotation(neg_pt, rot_mat, pcd_n_points_center)\n",
        "            point_set_anchor   = self.apply_rotation_pc(point_set_anchor, rot_mat, pcd_points_center)\n",
        "            point_set_positive = self.apply_rotation_pc(point_set_positive, rot_mat, pcd_n_points_center)\n",
        "            point_set_negative = self.apply_rotation_pc(point_set_negative, rot_mat, pcd_n_points_center)\n",
        "        else:\n",
        "            rot_mat = self.common_rot_mat\n",
        "\n",
        "        # center points around their centroid\n",
        "        point_set_anchor   = (point_set_anchor - anchor_pt)\n",
        "        point_set_positive = (point_set_positive - pos_pt)\n",
        "        point_set_negative = (point_set_negative - neg_pt)\n",
        "\n",
        "        # copy points coordinates to a fixed dimension np.array\n",
        "        point_set_anchor   = self.bufferize_pointcloud(point_set_anchor  , self.N)\n",
        "        point_set_positive = self.bufferize_pointcloud(point_set_positive, self.N)\n",
        "        point_set_negative = self.bufferize_pointcloud(point_set_negative, self.N)\n",
        "\n",
        "        # transform from numpy to torch.Tensor\n",
        "        point_set_anchor    = torch.from_numpy(point_set_anchor)\n",
        "        point_set_positive  = torch.from_numpy(point_set_positive)\n",
        "        point_set_negative  = torch.from_numpy(point_set_negative)\n",
        "\n",
        "        return mesh_idx, point_set_anchor, point_set_positive, point_set_negative, anchor_pt, pos_pt, neg_pt, rot_mat.as_matrix()"
      ]
    },
    {
      "cell_type": "markdown",
      "metadata": {
        "id": "ABoR7ciUCrq_"
      },
      "source": [
        "\n",
        "# Dataset Creation\n",
        "\n",
        "Now we can instantiate our training and test dataset objects."
      ]
    },
    {
      "cell_type": "code",
      "execution_count": null,
      "metadata": {
        "id": "mq_sC59txbQF",
        "colab": {
          "base_uri": "https://localhost:8080/"
        },
        "outputId": "e078ed71-3e82-4d68-e0df-2ff65f332129"
      },
      "outputs": [
        {
          "output_type": "stream",
          "name": "stdout",
          "text": [
            "parsing file /content/drive/MyDrive/3dshapes/train/bun_zipper.ply\n",
            "parsing file /content/drive/MyDrive/3dshapes/train/dragon_vrip.ply\n",
            "parsing file /content/drive/MyDrive/3dshapes/train/Armadillo.ply\n",
            "parsing file /content/drive/MyDrive/3dshapes/valid/bun_zipper.ply\n",
            "parsing file /content/drive/MyDrive/3dshapes/valid/dragon_vrip.ply\n",
            "parsing file /content/drive/MyDrive/3dshapes/valid/Armadillo.ply\n",
            "parsing file /content/drive/MyDrive/3dshapes/test/happy_vrip.ply\n"
          ]
        }
      ],
      "source": [
        "train_ds  = PointCloudData(dataset_path_train, samples_per_epoch=500)\n",
        "valid_ds  = PointCloudData(dataset_path_valid, samples_per_epoch=500)\n",
        "test_ds   = PointCloudData(dataset_path_test,  samples_per_epoch=500, is_test_set=True)"
      ]
    },
    {
      "cell_type": "markdown",
      "metadata": {
        "id": "kC5c_b1quNFT"
      },
      "source": [
        "Creating a `Dataset` class may seem unnecessary for the most basic problems. But it really helps when the dataset and the training procedure start to get more complex.\n",
        "\n",
        "One of the most useful benefit of defining a `Dataset` class is the possiblity to use the PyTorch `Dataloader` module.\n",
        "\n",
        "By operating on the dataset directly, we are losing out on a lot of features by using a simple for loop to iterate over the data. In particular, we are missing out on:\n",
        "\n",
        "* Batching the data\n",
        "* Shuffling the data\n",
        "* Load the data in parallel using multiprocessing workers.\n",
        "\n",
        "`torch.utils.data.DataLoader` is an iterator which provides all these features. Parameters used below should be clear."
      ]
    },
    {
      "cell_type": "code",
      "execution_count": null,
      "metadata": {
        "id": "lX2pNbMhxm0N"
      },
      "outputs": [],
      "source": [
        "# warning: batch_size needs to be at least 2\n",
        "train_loader  = DataLoader( dataset=train_ds,  batch_size=50, shuffle=True  )\n",
        "valid_loader  = DataLoader( dataset=valid_ds,  batch_size=50, shuffle=False )\n",
        "test_loader   = DataLoader( dataset=test_ds,   batch_size=20, shuffle=False )"
      ]
    },
    {
      "cell_type": "markdown",
      "metadata": {
        "id": "7IzNMJKK10u4"
      },
      "source": [
        "# Visualize some data"
      ]
    },
    {
      "cell_type": "code",
      "execution_count": null,
      "metadata": {
        "id": "yPswsKFl10u4"
      },
      "outputs": [],
      "source": [
        "ds = train_ds\n",
        "\n",
        "for (mesh_idx, _, _, _, anchor, positive, negative, rot_mat) in ds:\n",
        "    idx = mesh_idx\n",
        "    visualize(ds.pcds[idx],\n",
        "              anchor = anchor,\n",
        "              positive = positive,\n",
        "              negative = negative,\n",
        "              radius=ds.radius,\n",
        "              rot_mat=rot_mat)\n",
        "    break\n"
      ]
    },
    {
      "cell_type": "markdown",
      "metadata": {
        "id": "BPtnhEyuy9ks"
      },
      "source": [
        "# Network Definition"
      ]
    },
    {
      "cell_type": "markdown",
      "metadata": {
        "id": "1HjszmGzub9M"
      },
      "source": [
        "## Network Base Module\n",
        "\n",
        "A network is defined by extending the *torch.nn.module* class. The basic structure is:\n",
        "\n",
        "```\n",
        "class Net(nn.Module):\n",
        "    \n",
        "    def __init__(self, input_parameters):\n",
        "        super().__init__() # This executes the parent __init__ method\n",
        "        [...]\n",
        "\n",
        "    def forward(self, x, optional_parameters):\n",
        "        [...]\n",
        "        return out # return the output of the network\n",
        "```\n",
        "\n",
        "You need to define two methods:\n",
        "*   **\\_\\_init\\_\\_**: The constructor method. This is exectuted when the object is initialized (no need to call it explicitly). Here you have to instantiate all the network's parameters. PyTorch provides utility functions to easily initialize most of the commonly used deep learning layers.\n",
        "*   **forward**: Here you define the forward pass of the network, from the input *x* to the output (the method must return the network output). You just need to define the forward part, the back-propagation is automatically tracked by the framework!"
      ]
    },
    {
      "cell_type": "code",
      "execution_count": null,
      "metadata": {
        "id": "HpMGFh5_bj5I"
      },
      "outputs": [],
      "source": [
        "# Multi Layer Perceptron\n",
        "class MLP(nn.Module):\n",
        "    def __init__(self, input_size, output_size):\n",
        "        super().__init__()\n",
        "        self.input_size   = input_size\n",
        "        self.output_size  = output_size\n",
        "        self.conv  = nn.Conv1d(self.input_size, self.output_size, 1)\n",
        "        self.bn    = nn.BatchNorm1d(self.output_size)\n",
        "\n",
        "    def forward(self, input):\n",
        "        return F.relu(self.bn(self.conv(input)))\n",
        "\n",
        "# Fully Connected with Batch Normalization\n",
        "class FC_BN(nn.Module):\n",
        "    def __init__(self, input_size, output_size):\n",
        "        super().__init__()\n",
        "        self.input_size   = input_size\n",
        "        self.output_size  = output_size\n",
        "        self.lin  = nn.Linear(self.input_size, self.output_size)\n",
        "        self.bn    = nn.BatchNorm1d(self.output_size)\n",
        "\n",
        "    def forward(self, input):\n",
        "        return F.relu(self.bn(self.lin(input)))\n",
        "\n",
        "class TNet(nn.Module):\n",
        "    def __init__(self, k=3):\n",
        "        super().__init__()\n",
        "        self.k=k\n",
        "\n",
        "        self.mlp1 = MLP(self.k, 64)\n",
        "        self.mlp2 = MLP(64, 128)\n",
        "        self.mlp3 = MLP(128, 1024)\n",
        "\n",
        "        self.fc_bn1 = FC_BN(1024, 512)\n",
        "        self.fc_bn2 = FC_BN(512,256)\n",
        "\n",
        "        self.fc3 = nn.Linear(256,k*k)\n",
        "\n",
        "\n",
        "    def forward(self, input):\n",
        "        # input.shape == (batch_size,n,3)\n",
        "\n",
        "        bs = input.size(0)\n",
        "        xb = self.mlp1(input)\n",
        "        xb = self.mlp2(xb)\n",
        "        xb = self.mlp3(xb)\n",
        "\n",
        "        pool = nn.MaxPool1d(xb.size(-1))(xb)\n",
        "        flat = nn.Flatten(1)(pool)\n",
        "\n",
        "        xb = self.fc_bn1(flat)\n",
        "        xb = self.fc_bn2(xb)\n",
        "\n",
        "        #initialize as identity\n",
        "        init = torch.eye(self.k, requires_grad=True).repeat(bs,1,1)\n",
        "        if xb.is_cuda:\n",
        "            init=init.cuda()\n",
        "        matrix = self.fc3(xb).view(-1,self.k,self.k) + init\n",
        "        return matrix"
      ]
    },
    {
      "cell_type": "code",
      "execution_count": null,
      "metadata": {
        "id": "mEQ4Zx5WoLDx"
      },
      "outputs": [],
      "source": [
        "class TinyPointNet(nn.Module):\n",
        "    def __init__(self):\n",
        "        super().__init__()\n",
        "        self.input_transform   = TNet(k=3) ## if you use the shot rotation matrix, this is not going to be used\n",
        "        self.feature_transform = TNet(k=64)\n",
        "\n",
        "        ############# START ###########\n",
        "        self.mlp1 = MLP(3, 64)\n",
        "        self.mlp2 = MLP(64, 64)\n",
        "\n",
        "        self.mlp3 = MLP(64, 64)\n",
        "        self.mlp4 = MLP(64, 128)\n",
        "        self.mlp5 = MLP(128, 256)\n",
        "\n",
        "        ############# END #############\n",
        "\n",
        "    def forward(self, input):\n",
        "        n_pts = input.size()[2]\n",
        "        matrix3x3 = self.input_transform(input)                               #CHANGE ROTATION MATRIX HERE-------------------------------------------------\n",
        "        #matrix3x3 = self.shot_canonical_rotation(input, 3)\n",
        "\n",
        "        input_transform_output = torch.bmm(torch.transpose(input,1,2), matrix3x3).transpose(1,2)\n",
        "\n",
        "        ############# START ###########\n",
        "        x = self.mlp1(input_transform_output)\n",
        "        x = self.mlp2(x)\n",
        "\n",
        "        # feature transformation\n",
        "        matrix64x64 = self.feature_transform(x)\n",
        "        feature_transform_output = torch.bmm(torch.transpose(x,1,2), matrix64x64).transpose(1,2)\n",
        "\n",
        "        x = self.mlp3(feature_transform_output)\n",
        "        x = self.mlp4(x)\n",
        "        x = self.mlp5(x)\n",
        "\n",
        "        # global max pooling\n",
        "        global_feature = nn.MaxPool1d(x.size(-1))(x)\n",
        "\n",
        "        ############# END #############\n",
        "\n",
        "        return global_feature\n",
        "\n",
        "\n",
        "    def shot_canonical_rotation(self, input, k):\n",
        "        # input.shape == (batch_size, n, k)\n",
        "        batch_size, n, _ = input.size()\n",
        "        rotation_matrices = []\n",
        "        for i in range(batch_size):\n",
        "            features_batch = input[i]\n",
        "            centroid = torch.mean(features_batch, dim=1, keepdim=True)\n",
        "            centered_features = features_batch - centroid\n",
        "            if torch.any(torch.isnan(centered_features)) or torch.any(torch.isinf(centered_features)):\n",
        "                centered_features[torch.isnan(centered_features) | torch.isinf(centered_features)] = 1e-6\n",
        "            distances = torch.norm(centered_features, dim=0)\n",
        "\n",
        "            # Fix the weights calculation to match your working version\n",
        "            max_distance = torch.max(distances) + 1e-6\n",
        "            weights = 1.0 - distances / max_distance\n",
        "            weights[weights < 0] = 0\n",
        "            weights_sum = torch.sum(weights)\n",
        "            if weights_sum > 0:\n",
        "                weights = weights / weights_sum\n",
        "            else:\n",
        "                weights = torch.ones_like(weights) / n\n",
        "            weighted_cov_matrix = torch.zeros((centered_features.size(0), centered_features.size(0)), device=input.device)\n",
        "\n",
        "            ############# START ###########\n",
        "            ### compute the covariance matrix\n",
        "            weighted_features = centered_features * weights.unsqueeze(0)\n",
        "            weighted_cov_matrix = torch.matmul(weighted_features, centered_features.transpose(0, 1))\n",
        "            ############# END #############\n",
        "\n",
        "            weighted_cov_matrix += torch.eye(weighted_cov_matrix.size(-1), device=input.device) * 1e-6\n",
        "\n",
        "            ############# START ###########\n",
        "            ### compute the eigenvectors of covariance matrix\n",
        "            eigenvalues, eigenvectors = torch.linalg.eigh(weighted_cov_matrix)\n",
        "            # sort eigenvalues in descending order and get corresponding eigenvectors\n",
        "            idx = torch.argsort(eigenvalues, descending=True)\n",
        "            V = eigenvectors[:, idx]\n",
        "            ############# END #############\n",
        "\n",
        "            rotation_matrix = V[:, :k]\n",
        "            for j in range(k):\n",
        "                signs = torch.sign(torch.sum(centered_features * rotation_matrix[:, j].unsqueeze(1), dim=0))\n",
        "                if torch.sum(signs >= 0) < torch.sum(signs < 0):\n",
        "                    rotation_matrix[:, j] = -rotation_matrix[:, j]\n",
        "            rotation_matrices.append(rotation_matrix)\n",
        "        return torch.stack(rotation_matrices, dim=0)"
      ]
    },
    {
      "cell_type": "markdown",
      "metadata": {
        "id": "P38WBTtMyFeC"
      },
      "source": [
        "# Training loop"
      ]
    },
    {
      "cell_type": "code",
      "execution_count": null,
      "metadata": {
        "id": "vIlTUpNPyBdK",
        "colab": {
          "base_uri": "https://localhost:8080/"
        },
        "outputId": "8b4278b7-e4e8-4af5-f8d1-5cd93d5946fe"
      },
      "outputs": [
        {
          "output_type": "stream",
          "name": "stdout",
          "text": [
            "cuda:0\n"
          ]
        }
      ],
      "source": [
        "device = torch.device(\"cuda:0\" if torch.cuda.is_available() else \"cpu\")\n",
        "print(device)"
      ]
    },
    {
      "cell_type": "code",
      "execution_count": null,
      "metadata": {
        "id": "uWSroT5TyDnt",
        "colab": {
          "base_uri": "https://localhost:8080/"
        },
        "outputId": "459a2212-63ee-40c1-9c5b-88477584a59e"
      },
      "outputs": [
        {
          "output_type": "execute_result",
          "data": {
            "text/plain": [
              "TinyPointNet(\n",
              "  (input_transform): TNet(\n",
              "    (mlp1): MLP(\n",
              "      (conv): Conv1d(3, 64, kernel_size=(1,), stride=(1,))\n",
              "      (bn): BatchNorm1d(64, eps=1e-05, momentum=0.1, affine=True, track_running_stats=True)\n",
              "    )\n",
              "    (mlp2): MLP(\n",
              "      (conv): Conv1d(64, 128, kernel_size=(1,), stride=(1,))\n",
              "      (bn): BatchNorm1d(128, eps=1e-05, momentum=0.1, affine=True, track_running_stats=True)\n",
              "    )\n",
              "    (mlp3): MLP(\n",
              "      (conv): Conv1d(128, 1024, kernel_size=(1,), stride=(1,))\n",
              "      (bn): BatchNorm1d(1024, eps=1e-05, momentum=0.1, affine=True, track_running_stats=True)\n",
              "    )\n",
              "    (fc_bn1): FC_BN(\n",
              "      (lin): Linear(in_features=1024, out_features=512, bias=True)\n",
              "      (bn): BatchNorm1d(512, eps=1e-05, momentum=0.1, affine=True, track_running_stats=True)\n",
              "    )\n",
              "    (fc_bn2): FC_BN(\n",
              "      (lin): Linear(in_features=512, out_features=256, bias=True)\n",
              "      (bn): BatchNorm1d(256, eps=1e-05, momentum=0.1, affine=True, track_running_stats=True)\n",
              "    )\n",
              "    (fc3): Linear(in_features=256, out_features=9, bias=True)\n",
              "  )\n",
              "  (feature_transform): TNet(\n",
              "    (mlp1): MLP(\n",
              "      (conv): Conv1d(64, 64, kernel_size=(1,), stride=(1,))\n",
              "      (bn): BatchNorm1d(64, eps=1e-05, momentum=0.1, affine=True, track_running_stats=True)\n",
              "    )\n",
              "    (mlp2): MLP(\n",
              "      (conv): Conv1d(64, 128, kernel_size=(1,), stride=(1,))\n",
              "      (bn): BatchNorm1d(128, eps=1e-05, momentum=0.1, affine=True, track_running_stats=True)\n",
              "    )\n",
              "    (mlp3): MLP(\n",
              "      (conv): Conv1d(128, 1024, kernel_size=(1,), stride=(1,))\n",
              "      (bn): BatchNorm1d(1024, eps=1e-05, momentum=0.1, affine=True, track_running_stats=True)\n",
              "    )\n",
              "    (fc_bn1): FC_BN(\n",
              "      (lin): Linear(in_features=1024, out_features=512, bias=True)\n",
              "      (bn): BatchNorm1d(512, eps=1e-05, momentum=0.1, affine=True, track_running_stats=True)\n",
              "    )\n",
              "    (fc_bn2): FC_BN(\n",
              "      (lin): Linear(in_features=512, out_features=256, bias=True)\n",
              "      (bn): BatchNorm1d(256, eps=1e-05, momentum=0.1, affine=True, track_running_stats=True)\n",
              "    )\n",
              "    (fc3): Linear(in_features=256, out_features=4096, bias=True)\n",
              "  )\n",
              "  (mlp1): MLP(\n",
              "    (conv): Conv1d(3, 64, kernel_size=(1,), stride=(1,))\n",
              "    (bn): BatchNorm1d(64, eps=1e-05, momentum=0.1, affine=True, track_running_stats=True)\n",
              "  )\n",
              "  (mlp2): MLP(\n",
              "    (conv): Conv1d(64, 64, kernel_size=(1,), stride=(1,))\n",
              "    (bn): BatchNorm1d(64, eps=1e-05, momentum=0.1, affine=True, track_running_stats=True)\n",
              "  )\n",
              "  (mlp3): MLP(\n",
              "    (conv): Conv1d(64, 64, kernel_size=(1,), stride=(1,))\n",
              "    (bn): BatchNorm1d(64, eps=1e-05, momentum=0.1, affine=True, track_running_stats=True)\n",
              "  )\n",
              "  (mlp4): MLP(\n",
              "    (conv): Conv1d(64, 128, kernel_size=(1,), stride=(1,))\n",
              "    (bn): BatchNorm1d(128, eps=1e-05, momentum=0.1, affine=True, track_running_stats=True)\n",
              "  )\n",
              "  (mlp5): MLP(\n",
              "    (conv): Conv1d(128, 256, kernel_size=(1,), stride=(1,))\n",
              "    (bn): BatchNorm1d(256, eps=1e-05, momentum=0.1, affine=True, track_running_stats=True)\n",
              "  )\n",
              ")"
            ]
          },
          "metadata": {},
          "execution_count": 46
        }
      ],
      "source": [
        "tinypointnet = TinyPointNet()\n",
        "tinypointnet.to(device)"
      ]
    },
    {
      "cell_type": "code",
      "execution_count": null,
      "metadata": {
        "id": "wqwUjESLyKv3"
      },
      "outputs": [],
      "source": [
        "optimizer = torch.optim.Adam(tinypointnet.parameters(), lr=LEARNING_RATE)"
      ]
    },
    {
      "cell_type": "code",
      "execution_count": null,
      "metadata": {
        "id": "CAf8UGcPazjx"
      },
      "outputs": [],
      "source": [
        "def soft_triplet_loss(anchor, positive, negative, alpha=1.0):\n",
        "    ############## START #############\n",
        "\n",
        "    # flatten descriptors to ensure proper shape\n",
        "    anchor = anchor.view(anchor.size(0), -1)\n",
        "    positive = positive.view(positive.size(0), -1)\n",
        "    negative = negative.view(negative.size(0), -1)\n",
        "\n",
        "    # L2 distances\n",
        "    pos_dist = torch.norm(anchor - positive, p=2, dim=1)\n",
        "    neg_dist = torch.norm(anchor - negative, p=2, dim=1)\n",
        "\n",
        "    # soft triplet loss\n",
        "    loss = torch.log(1 + torch.exp(alpha * (pos_dist - neg_dist)))\n",
        "    ############## END ###############\n",
        "\n",
        "    return loss.mean()\n",
        "\n",
        "def standard_triplet_loss(anchor, positive, negative, alpha=0.1):\n",
        "\n",
        "    # flatten descriptors to ensure proper shape\n",
        "    anchor = anchor.view(anchor.size(0), -1)\n",
        "    positive = positive.view(positive.size(0), -1)\n",
        "    negative = negative.view(negative.size(0), -1)\n",
        "\n",
        "    # L2 distances\n",
        "    pos_dist = torch.norm(anchor - positive, p=2, dim=1)\n",
        "    neg_dist = torch.norm(anchor - negative, p=2, dim=1)\n",
        "\n",
        "    # standard triplet loss\n",
        "    loss = torch.relu(pos_dist - neg_dist + alpha)  # relu(x) = max(x,0)\n",
        "\n",
        "    return loss.mean()\n",
        "\n",
        "def contrastive_loss(anchor, positive, negative, margin=1.0):\n",
        "\n",
        "    # flatten descriptors to ensure proper shape\n",
        "    anchor = anchor.view(anchor.size(0), -1)\n",
        "    positive = positive.view(positive.size(0), -1)\n",
        "    negative = negative.view(negative.size(0), -1)\n",
        "\n",
        "    # compute distances\n",
        "    pos_dist = torch.norm(anchor - positive, p=2, dim=1)\n",
        "    neg_dist = torch.norm(anchor - negative, p=2, dim=1)\n",
        "\n",
        "    # contrastive loss\n",
        "    pos_loss = pos_dist.pow(2)\n",
        "    neg_loss = F.relu(margin - neg_dist).pow(2)\n",
        "\n",
        "    loss = pos_loss + neg_loss\n",
        "    return loss.mean()\n",
        "\n",
        "def train(model, train_loader, valid_loader=None,  epochs=EPOCHS, save=True):\n",
        "    best_valid_loss = 1e10\n",
        "    ############## START #############\n",
        "    ####### COMPLETE THIS PART: put the correct loss function #######   #-----------------------------------CHANGE LOSS HERE------------------------------------\n",
        "\n",
        "    # For standard triplet loss:\n",
        "    tinypointnetloss = standard_triplet_loss\n",
        "\n",
        "    # For soft triplet loss:\n",
        "    #tinypointnetloss = soft_triplet_loss\n",
        "\n",
        "    # For contrastive_loss loss:\n",
        "    #tinypointnetloss = contrastive_loss\n",
        "\n",
        "    ############## END ###############\n",
        "\n",
        "    # these lists keep track of the losses across epochs\n",
        "    train_losses, valid_losses = [], []\n",
        "\n",
        "    total_start_time = time.time() # start timing\n",
        "\n",
        "    for epoch in range(epochs):\n",
        "        start_time = time.time()\n",
        "        # local list of losses\n",
        "        train_loss, valid_loss = [], []\n",
        "\n",
        "        # train\n",
        "        tinypointnet.train()\n",
        "\n",
        "        for (_, anchor, positive, negative, _, _, _, _) in tqdm(train_loader):\n",
        "\n",
        "            # retrieve anchors, positives and negatives batch\n",
        "            anchor   =   anchor.to(device).float().transpose(1,2)\n",
        "            positive = positive.to(device).float().transpose(1,2)\n",
        "            negative = negative.to(device).float().transpose(1,2)\n",
        "\n",
        "            optimizer.zero_grad()\n",
        "\n",
        "            # let PointNetTiny model compute the descriptors\n",
        "            anchor_desc   = tinypointnet(anchor)\n",
        "            positive_desc = tinypointnet(positive)\n",
        "            negative_desc = tinypointnet(negative)\n",
        "\n",
        "            # compute the loss associated to these descriptors\n",
        "            loss = tinypointnetloss(anchor_desc, positive_desc, negative_desc)\n",
        "\n",
        "\n",
        "            # Backpropagate the gradient\n",
        "            loss.backward()\n",
        "            optimizer.step()\n",
        "\n",
        "            # Keep track of the statistics\n",
        "            train_loss.append(loss.item())\n",
        "            #pbar.set_postfix(loss=curr_loss)\n",
        "\n",
        "        train_loss = np.asarray(train_loss).mean()\n",
        "        print(f'epoch {epoch} - train loss: {train_loss:.6f}')\n",
        "        train_losses.append(train_loss)\n",
        "\n",
        "        # validation\n",
        "        start_time = time.time()\n",
        "        tinypointnet.eval()\n",
        "        pbar = tqdm(valid_loader, leave=False)\n",
        "\n",
        "        with torch.no_grad():\n",
        "            for (_, anchor, positive, negative, _, _, _, _) in pbar:\n",
        "                pbar.set_description(f\"valid - epoch {epoch}\")\n",
        "\n",
        "                anchor   =   anchor.to(device).float().transpose(1,2)\n",
        "                positive = positive.to(device).float().transpose(1,2)\n",
        "                negative = negative.to(device).float().transpose(1,2)\n",
        "\n",
        "                anchor_desc   = tinypointnet(anchor)\n",
        "                positive_desc = tinypointnet(positive)\n",
        "                negative_desc = tinypointnet(negative)\n",
        "                loss = tinypointnetloss(anchor_desc, positive_desc, negative_desc)\n",
        "                curr_loss = loss.item()\n",
        "\n",
        "                valid_loss.append(curr_loss)\n",
        "\n",
        "                pbar.set_postfix(loss=curr_loss)\n",
        "\n",
        "        valid_loss = np.asarray(valid_loss).mean()\n",
        "        print(f'epoch {epoch} - valid loss: {valid_loss:.6f}')\n",
        "        valid_losses.append(valid_loss)\n",
        "\n",
        "        # save the model\n",
        "        if save and valid_loss < best_valid_loss:\n",
        "            best_valid_loss = valid_loss\n",
        "            if running_on_colab:\n",
        "                path = os.path.join(drive_path, \"MyDrive\", \"tinypointnetmodel.yml\")\n",
        "            else:\n",
        "                path = os.path.join(\"tinypointnetmodel.yml\")\n",
        "            print(\"best_valid_loss:\", best_valid_loss, \"saving model at\", path)\n",
        "            torch.save(tinypointnet.state_dict(), path)\n",
        "\n",
        "    total_end_time = time.time() # end timing\n",
        "    print(f'\\nTotal training time: {total_end_time - total_start_time:.2f}s')\n",
        "\n",
        "    return train_losses, valid_losses"
      ]
    },
    {
      "cell_type": "code",
      "execution_count": null,
      "metadata": {
        "id": "pCioSo6kyU5M",
        "colab": {
          "base_uri": "https://localhost:8080/"
        },
        "outputId": "d3acde8d-60f8-4506-ba21-d3a3bb2dd491"
      },
      "outputs": [
        {
          "output_type": "stream",
          "name": "stderr",
          "text": [
            "100%|██████████| 10/10 [00:21<00:00,  2.12s/it]\n"
          ]
        },
        {
          "output_type": "stream",
          "name": "stdout",
          "text": [
            "epoch 0 - train loss: 0.023143\n"
          ]
        },
        {
          "output_type": "stream",
          "name": "stderr",
          "text": []
        },
        {
          "output_type": "stream",
          "name": "stdout",
          "text": [
            "epoch 0 - valid loss: 0.005528\n",
            "best_valid_loss: 0.005528010032139719 saving model at /content/drive/MyDrive/tinypointnetmodel.yml\n"
          ]
        },
        {
          "output_type": "stream",
          "name": "stderr",
          "text": [
            "100%|██████████| 10/10 [00:17<00:00,  1.75s/it]\n"
          ]
        },
        {
          "output_type": "stream",
          "name": "stdout",
          "text": [
            "epoch 1 - train loss: 0.004339\n"
          ]
        },
        {
          "output_type": "stream",
          "name": "stderr",
          "text": []
        },
        {
          "output_type": "stream",
          "name": "stdout",
          "text": [
            "epoch 1 - valid loss: 0.000028\n",
            "best_valid_loss: 2.7934982790611683e-05 saving model at /content/drive/MyDrive/tinypointnetmodel.yml\n"
          ]
        },
        {
          "output_type": "stream",
          "name": "stderr",
          "text": [
            "100%|██████████| 10/10 [00:16<00:00,  1.64s/it]\n"
          ]
        },
        {
          "output_type": "stream",
          "name": "stdout",
          "text": [
            "epoch 2 - train loss: 0.083082\n"
          ]
        },
        {
          "output_type": "stream",
          "name": "stderr",
          "text": []
        },
        {
          "output_type": "stream",
          "name": "stdout",
          "text": [
            "epoch 2 - valid loss: 0.000000\n",
            "best_valid_loss: 0.0 saving model at /content/drive/MyDrive/tinypointnetmodel.yml\n"
          ]
        },
        {
          "output_type": "stream",
          "name": "stderr",
          "text": [
            "100%|██████████| 10/10 [00:17<00:00,  1.75s/it]\n"
          ]
        },
        {
          "output_type": "stream",
          "name": "stdout",
          "text": [
            "epoch 3 - train loss: 0.026367\n"
          ]
        },
        {
          "output_type": "stream",
          "name": "stderr",
          "text": []
        },
        {
          "output_type": "stream",
          "name": "stdout",
          "text": [
            "epoch 3 - valid loss: 0.098601\n"
          ]
        },
        {
          "output_type": "stream",
          "name": "stderr",
          "text": [
            "100%|██████████| 10/10 [00:15<00:00,  1.56s/it]\n"
          ]
        },
        {
          "output_type": "stream",
          "name": "stdout",
          "text": [
            "epoch 4 - train loss: 0.010286\n"
          ]
        },
        {
          "output_type": "stream",
          "name": "stderr",
          "text": []
        },
        {
          "output_type": "stream",
          "name": "stdout",
          "text": [
            "epoch 4 - valid loss: 0.012994\n"
          ]
        },
        {
          "output_type": "stream",
          "name": "stderr",
          "text": [
            "100%|██████████| 10/10 [00:16<00:00,  1.62s/it]\n"
          ]
        },
        {
          "output_type": "stream",
          "name": "stdout",
          "text": [
            "epoch 5 - train loss: 0.046330\n"
          ]
        },
        {
          "output_type": "stream",
          "name": "stderr",
          "text": []
        },
        {
          "output_type": "stream",
          "name": "stdout",
          "text": [
            "epoch 5 - valid loss: 0.027584\n"
          ]
        },
        {
          "output_type": "stream",
          "name": "stderr",
          "text": [
            "100%|██████████| 10/10 [00:15<00:00,  1.56s/it]\n"
          ]
        },
        {
          "output_type": "stream",
          "name": "stdout",
          "text": [
            "epoch 6 - train loss: 0.022305\n"
          ]
        },
        {
          "output_type": "stream",
          "name": "stderr",
          "text": []
        },
        {
          "output_type": "stream",
          "name": "stdout",
          "text": [
            "epoch 6 - valid loss: 0.108129\n"
          ]
        },
        {
          "output_type": "stream",
          "name": "stderr",
          "text": [
            "100%|██████████| 10/10 [00:17<00:00,  1.71s/it]\n"
          ]
        },
        {
          "output_type": "stream",
          "name": "stdout",
          "text": [
            "epoch 7 - train loss: 0.069497\n"
          ]
        },
        {
          "output_type": "stream",
          "name": "stderr",
          "text": []
        },
        {
          "output_type": "stream",
          "name": "stdout",
          "text": [
            "epoch 7 - valid loss: 0.009619\n"
          ]
        },
        {
          "output_type": "stream",
          "name": "stderr",
          "text": [
            "100%|██████████| 10/10 [00:16<00:00,  1.60s/it]\n"
          ]
        },
        {
          "output_type": "stream",
          "name": "stdout",
          "text": [
            "epoch 8 - train loss: 0.024073\n"
          ]
        },
        {
          "output_type": "stream",
          "name": "stderr",
          "text": []
        },
        {
          "output_type": "stream",
          "name": "stdout",
          "text": [
            "epoch 8 - valid loss: 0.008440\n"
          ]
        },
        {
          "output_type": "stream",
          "name": "stderr",
          "text": [
            "100%|██████████| 10/10 [00:15<00:00,  1.58s/it]\n"
          ]
        },
        {
          "output_type": "stream",
          "name": "stdout",
          "text": [
            "epoch 9 - train loss: 0.004313\n"
          ]
        },
        {
          "output_type": "stream",
          "name": "stderr",
          "text": []
        },
        {
          "output_type": "stream",
          "name": "stdout",
          "text": [
            "epoch 9 - valid loss: 0.031762\n"
          ]
        },
        {
          "output_type": "stream",
          "name": "stderr",
          "text": [
            "100%|██████████| 10/10 [00:17<00:00,  1.70s/it]\n"
          ]
        },
        {
          "output_type": "stream",
          "name": "stdout",
          "text": [
            "epoch 10 - train loss: 0.010394\n"
          ]
        },
        {
          "output_type": "stream",
          "name": "stderr",
          "text": []
        },
        {
          "output_type": "stream",
          "name": "stdout",
          "text": [
            "epoch 10 - valid loss: 0.005661\n"
          ]
        },
        {
          "output_type": "stream",
          "name": "stderr",
          "text": [
            "100%|██████████| 10/10 [00:16<00:00,  1.66s/it]\n"
          ]
        },
        {
          "output_type": "stream",
          "name": "stdout",
          "text": [
            "epoch 11 - train loss: 0.008760\n"
          ]
        },
        {
          "output_type": "stream",
          "name": "stderr",
          "text": []
        },
        {
          "output_type": "stream",
          "name": "stdout",
          "text": [
            "epoch 11 - valid loss: 0.004524\n"
          ]
        },
        {
          "output_type": "stream",
          "name": "stderr",
          "text": [
            "100%|██████████| 10/10 [00:19<00:00,  1.90s/it]\n"
          ]
        },
        {
          "output_type": "stream",
          "name": "stdout",
          "text": [
            "epoch 12 - train loss: 0.005053\n"
          ]
        },
        {
          "output_type": "stream",
          "name": "stderr",
          "text": []
        },
        {
          "output_type": "stream",
          "name": "stdout",
          "text": [
            "epoch 12 - valid loss: 0.005098\n"
          ]
        },
        {
          "output_type": "stream",
          "name": "stderr",
          "text": [
            "100%|██████████| 10/10 [00:16<00:00,  1.70s/it]\n"
          ]
        },
        {
          "output_type": "stream",
          "name": "stdout",
          "text": [
            "epoch 13 - train loss: 0.004385\n"
          ]
        },
        {
          "output_type": "stream",
          "name": "stderr",
          "text": []
        },
        {
          "output_type": "stream",
          "name": "stdout",
          "text": [
            "epoch 13 - valid loss: 0.001128\n"
          ]
        },
        {
          "output_type": "stream",
          "name": "stderr",
          "text": [
            "100%|██████████| 10/10 [00:16<00:00,  1.67s/it]\n"
          ]
        },
        {
          "output_type": "stream",
          "name": "stdout",
          "text": [
            "epoch 14 - train loss: 0.044224\n"
          ]
        },
        {
          "output_type": "stream",
          "name": "stderr",
          "text": []
        },
        {
          "output_type": "stream",
          "name": "stdout",
          "text": [
            "epoch 14 - valid loss: 0.009178\n"
          ]
        },
        {
          "output_type": "stream",
          "name": "stderr",
          "text": [
            "100%|██████████| 10/10 [00:16<00:00,  1.63s/it]\n"
          ]
        },
        {
          "output_type": "stream",
          "name": "stdout",
          "text": [
            "epoch 15 - train loss: 0.013483\n"
          ]
        },
        {
          "output_type": "stream",
          "name": "stderr",
          "text": []
        },
        {
          "output_type": "stream",
          "name": "stdout",
          "text": [
            "epoch 15 - valid loss: 0.005565\n"
          ]
        },
        {
          "output_type": "stream",
          "name": "stderr",
          "text": [
            "100%|██████████| 10/10 [00:16<00:00,  1.68s/it]\n"
          ]
        },
        {
          "output_type": "stream",
          "name": "stdout",
          "text": [
            "epoch 16 - train loss: 0.004103\n"
          ]
        },
        {
          "output_type": "stream",
          "name": "stderr",
          "text": []
        },
        {
          "output_type": "stream",
          "name": "stdout",
          "text": [
            "epoch 16 - valid loss: 0.004609\n"
          ]
        },
        {
          "output_type": "stream",
          "name": "stderr",
          "text": [
            "100%|██████████| 10/10 [00:17<00:00,  1.71s/it]\n"
          ]
        },
        {
          "output_type": "stream",
          "name": "stdout",
          "text": [
            "epoch 17 - train loss: 0.002677\n"
          ]
        },
        {
          "output_type": "stream",
          "name": "stderr",
          "text": []
        },
        {
          "output_type": "stream",
          "name": "stdout",
          "text": [
            "epoch 17 - valid loss: 0.007688\n"
          ]
        },
        {
          "output_type": "stream",
          "name": "stderr",
          "text": [
            "100%|██████████| 10/10 [00:16<00:00,  1.60s/it]\n"
          ]
        },
        {
          "output_type": "stream",
          "name": "stdout",
          "text": [
            "epoch 18 - train loss: 0.000773\n"
          ]
        },
        {
          "output_type": "stream",
          "name": "stderr",
          "text": []
        },
        {
          "output_type": "stream",
          "name": "stdout",
          "text": [
            "epoch 18 - valid loss: 0.001016\n"
          ]
        },
        {
          "output_type": "stream",
          "name": "stderr",
          "text": [
            "100%|██████████| 10/10 [00:15<00:00,  1.55s/it]\n"
          ]
        },
        {
          "output_type": "stream",
          "name": "stdout",
          "text": [
            "epoch 19 - train loss: 0.017427\n"
          ]
        },
        {
          "output_type": "stream",
          "name": "stderr",
          "text": [
            "                                                                         "
          ]
        },
        {
          "output_type": "stream",
          "name": "stdout",
          "text": [
            "epoch 19 - valid loss: 0.003377\n",
            "\n",
            "Total training time: 648.45s\n"
          ]
        },
        {
          "output_type": "stream",
          "name": "stderr",
          "text": [
            "\r"
          ]
        }
      ],
      "source": [
        "train_losses, valid_losses = train(tinypointnet, train_loader, valid_loader, save=True)"
      ]
    },
    {
      "cell_type": "markdown",
      "metadata": {
        "id": "AxxvdXzn10u5"
      },
      "source": [
        "## Visualize the Training trend"
      ]
    },
    {
      "cell_type": "code",
      "execution_count": null,
      "metadata": {
        "id": "22ECIGIZ10u6"
      },
      "outputs": [],
      "source": [
        "def numpy_ewma_vectorized_v2(data, window=10):\n",
        "    # Return the Exponentially Weighted Moving Average\n",
        "    # for better visualizing the \"trend\" of the metrics\n",
        "\n",
        "    alpha = 2 /(window + 1.0)\n",
        "    alpha_rev = 1-alpha\n",
        "    n = data.shape[0]\n",
        "\n",
        "    pows = alpha_rev**(np.arange(n+1))\n",
        "\n",
        "    scale_arr = 1/pows[:-1]\n",
        "    offset = data[0]*pows[1:]\n",
        "    pw0 = alpha*alpha_rev**(n-1)\n",
        "\n",
        "    mult = data*pw0*scale_arr\n",
        "    cumsums = mult.cumsum()\n",
        "    out = offset + cumsums*scale_arr[::-1]\n",
        "    return out"
      ]
    },
    {
      "cell_type": "markdown",
      "metadata": {
        "id": "u2PDOXU710u6"
      },
      "source": [
        "### Plot the trend of train and valid losses\n",
        "By using an Exponentially Weighted Moving Average of the losses,\n",
        "we can better understand the behaviour of our network by filtering out\n",
        "the noisy *local values* and focusing more on the *global trend*."
      ]
    },
    {
      "cell_type": "code",
      "execution_count": null,
      "metadata": {
        "id": "3PIDERVU10u6",
        "colab": {
          "base_uri": "https://localhost:8080/",
          "height": 448
        },
        "outputId": "5262d8f0-8383-41fa-cbf3-19fe80aa8cc8"
      },
      "outputs": [
        {
          "output_type": "execute_result",
          "data": {
            "text/plain": [
              "<matplotlib.legend.Legend at 0x7a3d7a458a50>"
            ]
          },
          "metadata": {},
          "execution_count": 52
        },
        {
          "output_type": "display_data",
          "data": {
            "text/plain": [
              "<Figure size 640x480 with 1 Axes>"
            ],
            "image/png": "[encoded data removed]"
          },
          "metadata": {}
        }
      ],
      "source": [
        "plt.plot(train_losses, label=\"train losses\", color='r', alpha=0.2)\n",
        "plt.plot(valid_losses, label=\"valid losses\", color='b', alpha=0.2)\n",
        "plt.plot(numpy_ewma_vectorized_v2(np.array(train_losses)), label=\"train losses EMA\", color='r')\n",
        "plt.plot(numpy_ewma_vectorized_v2(np.array(valid_losses)), label=\"valid losses EMA\", color='b')\n",
        "plt.legend()"
      ]
    },
    {
      "cell_type": "markdown",
      "metadata": {
        "id": "irrVJH1UJb92"
      },
      "source": [
        "# Test: feature matching\n",
        "\n",
        "Let's compute the model test metrics\n",
        "\n",
        "> First we need to load the best model weights\n",
        "\n",
        "\n",
        "\n"
      ]
    },
    {
      "cell_type": "markdown",
      "metadata": {
        "id": "bKvjnBLt-aGa"
      },
      "source": [
        "## Load checkpoint"
      ]
    },
    {
      "cell_type": "code",
      "execution_count": null,
      "metadata": {
        "id": "-IqRQrxg10u6",
        "colab": {
          "base_uri": "https://localhost:8080/"
        },
        "outputId": "b9fa28ad-8d9e-401d-bb03-aa19b3fb9611"
      },
      "outputs": [
        {
          "output_type": "execute_result",
          "data": {
            "text/plain": [
              "TinyPointNet(\n",
              "  (input_transform): TNet(\n",
              "    (mlp1): MLP(\n",
              "      (conv): Conv1d(3, 64, kernel_size=(1,), stride=(1,))\n",
              "      (bn): BatchNorm1d(64, eps=1e-05, momentum=0.1, affine=True, track_running_stats=True)\n",
              "    )\n",
              "    (mlp2): MLP(\n",
              "      (conv): Conv1d(64, 128, kernel_size=(1,), stride=(1,))\n",
              "      (bn): BatchNorm1d(128, eps=1e-05, momentum=0.1, affine=True, track_running_stats=True)\n",
              "    )\n",
              "    (mlp3): MLP(\n",
              "      (conv): Conv1d(128, 1024, kernel_size=(1,), stride=(1,))\n",
              "      (bn): BatchNorm1d(1024, eps=1e-05, momentum=0.1, affine=True, track_running_stats=True)\n",
              "    )\n",
              "    (fc_bn1): FC_BN(\n",
              "      (lin): Linear(in_features=1024, out_features=512, bias=True)\n",
              "      (bn): BatchNorm1d(512, eps=1e-05, momentum=0.1, affine=True, track_running_stats=True)\n",
              "    )\n",
              "    (fc_bn2): FC_BN(\n",
              "      (lin): Linear(in_features=512, out_features=256, bias=True)\n",
              "      (bn): BatchNorm1d(256, eps=1e-05, momentum=0.1, affine=True, track_running_stats=True)\n",
              "    )\n",
              "    (fc3): Linear(in_features=256, out_features=9, bias=True)\n",
              "  )\n",
              "  (feature_transform): TNet(\n",
              "    (mlp1): MLP(\n",
              "      (conv): Conv1d(64, 64, kernel_size=(1,), stride=(1,))\n",
              "      (bn): BatchNorm1d(64, eps=1e-05, momentum=0.1, affine=True, track_running_stats=True)\n",
              "    )\n",
              "    (mlp2): MLP(\n",
              "      (conv): Conv1d(64, 128, kernel_size=(1,), stride=(1,))\n",
              "      (bn): BatchNorm1d(128, eps=1e-05, momentum=0.1, affine=True, track_running_stats=True)\n",
              "    )\n",
              "    (mlp3): MLP(\n",
              "      (conv): Conv1d(128, 1024, kernel_size=(1,), stride=(1,))\n",
              "      (bn): BatchNorm1d(1024, eps=1e-05, momentum=0.1, affine=True, track_running_stats=True)\n",
              "    )\n",
              "    (fc_bn1): FC_BN(\n",
              "      (lin): Linear(in_features=1024, out_features=512, bias=True)\n",
              "      (bn): BatchNorm1d(512, eps=1e-05, momentum=0.1, affine=True, track_running_stats=True)\n",
              "    )\n",
              "    (fc_bn2): FC_BN(\n",
              "      (lin): Linear(in_features=512, out_features=256, bias=True)\n",
              "      (bn): BatchNorm1d(256, eps=1e-05, momentum=0.1, affine=True, track_running_stats=True)\n",
              "    )\n",
              "    (fc3): Linear(in_features=256, out_features=4096, bias=True)\n",
              "  )\n",
              "  (mlp1): MLP(\n",
              "    (conv): Conv1d(3, 64, kernel_size=(1,), stride=(1,))\n",
              "    (bn): BatchNorm1d(64, eps=1e-05, momentum=0.1, affine=True, track_running_stats=True)\n",
              "  )\n",
              "  (mlp2): MLP(\n",
              "    (conv): Conv1d(64, 64, kernel_size=(1,), stride=(1,))\n",
              "    (bn): BatchNorm1d(64, eps=1e-05, momentum=0.1, affine=True, track_running_stats=True)\n",
              "  )\n",
              "  (mlp3): MLP(\n",
              "    (conv): Conv1d(64, 64, kernel_size=(1,), stride=(1,))\n",
              "    (bn): BatchNorm1d(64, eps=1e-05, momentum=0.1, affine=True, track_running_stats=True)\n",
              "  )\n",
              "  (mlp4): MLP(\n",
              "    (conv): Conv1d(64, 128, kernel_size=(1,), stride=(1,))\n",
              "    (bn): BatchNorm1d(128, eps=1e-05, momentum=0.1, affine=True, track_running_stats=True)\n",
              "  )\n",
              "  (mlp5): MLP(\n",
              "    (conv): Conv1d(128, 256, kernel_size=(1,), stride=(1,))\n",
              "    (bn): BatchNorm1d(256, eps=1e-05, momentum=0.1, affine=True, track_running_stats=True)\n",
              "  )\n",
              ")"
            ]
          },
          "metadata": {},
          "execution_count": 53
        }
      ],
      "source": [
        "if running_on_colab:\n",
        "    path = os.path.join(drive_path, \"MyDrive\", \"tinypointnetmodel.yml\")\n",
        "else:\n",
        "    path = os.path.join(\"tinypointnetmodel.yml\")\n",
        "tinypointnet = TinyPointNet()\n",
        "tinypointnet.load_state_dict(torch.load(path))\n",
        "tinypointnet.to(device)"
      ]
    },
    {
      "cell_type": "markdown",
      "metadata": {
        "id": "itY5hBZ9-aGa"
      },
      "source": [
        "## Prepare the test set"
      ]
    },
    {
      "cell_type": "code",
      "execution_count": null,
      "metadata": {
        "id": "PI4YkY6Od2PH",
        "colab": {
          "base_uri": "https://localhost:8080/"
        },
        "outputId": "c0d3f5c6-1c2a-40c0-e4e8-0643bcef7306"
      },
      "outputs": [
        {
          "output_type": "stream",
          "name": "stderr",
          "text": [
            "100%|██████████| 2000/2000 [00:00<00:00, 67248.74it/s]\n"
          ]
        }
      ],
      "source": [
        "test_ds.generate_test_set(0, 2000)\n",
        "\n",
        "## build the ground truth nearest neighbors\n",
        "## in other words, find thepoints in the noisy test points\n",
        "## that are the nearest neighbors to the original, sampled, test points\n",
        "test_ds.generate_noisy_test_set(0)\n"
      ]
    },
    {
      "cell_type": "markdown",
      "source": [
        "This cell was added as an attempt to visualize the colors in colab - code was taken from an LLM and left as it is"
      ],
      "metadata": {
        "id": "k1Za1wRoiVQg"
      }
    },
    {
      "cell_type": "code",
      "source": [
        "import numpy as np\n",
        "import plotly.graph_objects as go\n",
        "import open3d as o3d\n",
        "from tqdm import tqdm\n",
        "\n",
        "def visualize_geometries(geometries):\n",
        "    graph_objects = []\n",
        "\n",
        "    for geom in geometries:\n",
        "        if isinstance(geom, o3d.geometry.PointCloud):\n",
        "            # Handle point cloud\n",
        "            points = np.asarray(geom.points)\n",
        "\n",
        "            if geom.has_colors():\n",
        "                colors = np.asarray(geom.colors)\n",
        "                if colors.max() > 1.0:\n",
        "                    colors = colors / 255.0  # Normalize if needed\n",
        "                colors = [f'rgb({int(r*255)},{int(g*255)},{int(b*255)})' for r, g, b in colors]\n",
        "            else:\n",
        "                colors = 'rgb(128, 128, 128)'  # Default gray\n",
        "\n",
        "            graph_objects.append(go.Scatter3d(\n",
        "                x=points[:, 0], y=points[:, 1], z=points[:, 2],\n",
        "                mode='markers',\n",
        "                marker=dict(size=2, color=colors)\n",
        "            ))\n",
        "\n",
        "        elif isinstance(geom, o3d.geometry.TriangleMesh):\n",
        "            # Handle spheres (or other meshes)\n",
        "            vertices = np.asarray(geom.vertices)\n",
        "            triangles = np.asarray(geom.triangles)\n",
        "\n",
        "            # Get color\n",
        "            if geom.has_vertex_colors():\n",
        "                vertex_colors = np.asarray(geom.vertex_colors)\n",
        "                if vertex_colors.max() > 1.0:\n",
        "                    vertex_colors = vertex_colors / 255.0\n",
        "                color = vertex_colors.mean(axis=0)  # Average color\n",
        "            else:\n",
        "                color = [1.0, 0.0, 0.0]  # Default red\n",
        "\n",
        "            graph_objects.append(go.Mesh3d(\n",
        "                x=vertices[:, 0], y=vertices[:, 1], z=vertices[:, 2],\n",
        "                i=triangles[:, 0], j=triangles[:, 1], k=triangles[:, 2],\n",
        "                color=f'rgb({int(color[0]*255)},{int(color[1]*255)},{int(color[2]*255)})',\n",
        "                opacity=0.8\n",
        "            ))\n",
        "\n",
        "    # Configure layout\n",
        "    fig = go.Figure(\n",
        "        data=graph_objects,\n",
        "        layout=dict(\n",
        "            scene=dict(\n",
        "                xaxis=dict(visible=False),\n",
        "                yaxis=dict(visible=False),\n",
        "                zaxis=dict(visible=False),\n",
        "                aspectmode='data'\n",
        "            ),\n",
        "            margin=dict(l=0, r=0, b=0, t=0)\n",
        "        )\n",
        "    )\n",
        "    fig.update_layout(height=800, showlegend=False)\n",
        "    fig.show()"
      ],
      "metadata": {
        "id": "Z_0-tvhSOnCe"
      },
      "execution_count": null,
      "outputs": []
    },
    {
      "cell_type": "markdown",
      "metadata": {
        "id": "UIS7oTgo-aGa"
      },
      "source": [
        "### Visualize the sampled test points\n",
        "Little red spheres represent the test points sampled from the original test mesh"
      ]
    },
    {
      "cell_type": "code",
      "execution_count": null,
      "metadata": {
        "id": "Ku_hmkSA-aGa"
      },
      "outputs": [],
      "source": [
        "pcd = o3d.geometry.PointCloud()\n",
        "pcd.points = o3d.utility.Vector3dVector(test_ds.test_points_sampled_n)\n",
        "pcd.paint_uniform_color([0.5, 0.5, 0.5])\n",
        "geoms = [pcd]\n",
        "\n",
        "# visualize the colored point cloud\n",
        "o3d.visualization.draw_geometries(geoms)"
      ]
    },
    {
      "cell_type": "code",
      "execution_count": null,
      "metadata": {
        "id": "4ax50Dx1-aGe"
      },
      "outputs": [],
      "source": [
        "pcd = test_ds.get_sampled_pointcloud(mesh_idx=0, N=5000)\n",
        "pcd.paint_uniform_color([0.5, 0.5, 0.5])\n",
        "geoms = [pcd]\n",
        "for point in test_ds.test_points_sampled_n:\n",
        "    sphere = o3d.geometry.TriangleMesh.create_sphere(radius=1e-3)\n",
        "    sphere.translate(point)\n",
        "    sphere.paint_uniform_color([1, 0, 0])\n",
        "    geoms.append(sphere)\n",
        "\n",
        "# visualize the colored point cloud\n",
        "o3d.visualization.draw_geometries(geoms)\n",
        "#visualize_geometries(geoms) # to visualize colors"
      ]
    },
    {
      "cell_type": "markdown",
      "metadata": {
        "id": "Cr9ikAj--aGe"
      },
      "source": [
        "### Compute the descriptor of each point in each point set"
      ]
    },
    {
      "cell_type": "code",
      "execution_count": null,
      "metadata": {
        "id": "d3jBS-ev10u6",
        "colab": {
          "base_uri": "https://localhost:8080/"
        },
        "outputId": "1f0ea33e-a390-4cfe-c77f-38676f8dfcec"
      },
      "outputs": [
        {
          "output_type": "stream",
          "name": "stderr",
          "text": [
            "100%|██████████| 2000/2000 [00:37<00:00, 52.79it/s]\n",
            "100%|██████████| 2000/2000 [00:26<00:00, 76.65it/s]\n"
          ]
        }
      ],
      "source": [
        "descs   = test_ds.compute_descriptors(tinypointnet)\n",
        "descs_n = test_ds.compute_descriptors(tinypointnet, noisy=True)"
      ]
    },
    {
      "cell_type": "markdown",
      "metadata": {
        "id": "xewsAugY-aGe"
      },
      "source": [
        "## matching time!\n",
        "In other words, get the descriptor from the noisy point cloud which is closest to the query descriptor from the original point cloud"
      ]
    },
    {
      "cell_type": "code",
      "execution_count": null,
      "metadata": {
        "id": "0qN0slbv-aGe",
        "colab": {
          "base_uri": "https://localhost:8080/"
        },
        "outputId": "c6b237fe-3f9e-41de-c6f6-f54df70a01f7"
      },
      "outputs": [
        {
          "output_type": "stream",
          "name": "stderr",
          "text": [
            "100%|██████████| 2000/2000 [00:00<00:00, 21712.51it/s]\n"
          ]
        }
      ],
      "source": [
        "pcd = test_ds.get_sampled_pointcloud(mesh_idx=0, N=5000)\n",
        "pcd.paint_uniform_color([0.5, 0.5, 0.5])\n",
        "geoms = [pcd]\n",
        "for row in tqdm(range(test_ds.test_points_sampled_n.shape[0])):\n",
        "    anchor       = test_ds.test_points_sampled[row]\n",
        "    sphere = o3d.geometry.TriangleMesh.create_sphere(radius=1e-3)\n",
        "    sphere.translate(anchor)\n",
        "    sphere.paint_uniform_color([1, 0, 0])\n",
        "    geoms.append(sphere)\n",
        "\n",
        "\n",
        "o3d.visualization.draw_geometries(geoms)\n",
        "#visualize_geometries(geoms) # to visualize colors"
      ]
    },
    {
      "cell_type": "code",
      "execution_count": null,
      "metadata": {
        "id": "wwnHVKf0-aGe",
        "colab": {
          "base_uri": "https://localhost:8080/"
        },
        "outputId": "db18f5c5-bf09-4a63-a4b1-c3239b109849"
      },
      "outputs": [
        {
          "output_type": "stream",
          "name": "stderr",
          "text": [
            "100%|██████████| 2000/2000 [00:22<00:00, 90.73it/s] "
          ]
        },
        {
          "output_type": "stream",
          "name": "stdout",
          "text": [
            "\n",
            "accuracy: 97.850%\n"
          ]
        },
        {
          "output_type": "stream",
          "name": "stderr",
          "text": [
            "\n"
          ]
        }
      ],
      "source": [
        "correct = tot = 0\n",
        "\n",
        "for row in tqdm(range(test_ds.test_points_sampled.shape[0])):\n",
        "    desc = descs[row, :]\n",
        "    dists = []\n",
        "    anchor       = test_ds.test_points_sampled[row]\n",
        "    true_near_pt = test_ds.test_points_sampled_n[row]\n",
        "\n",
        "    for row2 in range(test_ds.test_points_sampled_n.shape[0]):\n",
        "        desc2 = descs_n[row2, :]\n",
        "        dist = np.linalg.norm(desc - desc2)\n",
        "        dists.append(dist)\n",
        "\n",
        "    min_row = np.argmin(np.asarray(dists))\n",
        "\n",
        "    pred_pt = test_ds.test_points_sampled_n[min_row].squeeze()\n",
        "\n",
        "    dist = np.linalg.norm(true_near_pt - pred_pt)\n",
        "\n",
        "    # visualize(test_ds.test_points_sampled,\n",
        "    #           anchor = anchor,\n",
        "    #           positive = pred_pt,\n",
        "    #           radius=test_ds.radius)\n",
        "\n",
        "    if dist<test_ds.radius:\n",
        "        correct += 1\n",
        "    tot += 1\n",
        "\n",
        "print()\n",
        "print(f\"accuracy: {correct*100/tot:6.3f}%\")\n",
        "\n"
      ]
    }
  ],
  "metadata": {
    "accelerator": "GPU",
    "colab": {
      "collapsed_sections": [
        "7IzNMJKK10u4"
      ],
      "gpuType": "T4",
      "provenance": [],
      "history_visible": true
    },
    "kernelspec": {
      "display_name": "Python 3",
      "name": "python3"
    },
    "language_info": {
      "name": "python"
    }
  },
  "nbformat": 4,
  "nbformat_minor": 0
}